{
 "cells": [
  {
   "cell_type": "code",
   "execution_count": 93,
   "id": "6c483b98-daf1-4005-9368-02baa283221c",
   "metadata": {},
   "outputs": [],
   "source": [
    "import numpy as np \n",
    "import pandas as pd\n",
    "import sklearn\n"
   ]
  },
  {
   "cell_type": "code",
   "execution_count": 94,
   "id": "1ead6028-435d-4019-9287-c57f9c532749",
   "metadata": {},
   "outputs": [
    {
     "name": "stdout",
     "output_type": "stream",
     "text": [
      "NumPy version: 1.26.4\n",
      "Pandas version: 2.2.2\n",
      "Scikit-learn version: 1.4.2\n"
     ]
    }
   ],
   "source": [
    "print(\"NumPy version:\", np.__version__)\n",
    "print(\"Pandas version:\", pd.__version__)\n",
    "print(\"Scikit-learn version:\", sklearn.__version__)"
   ]
  },
  {
   "cell_type": "code",
   "execution_count": null,
   "id": "3d796507-9383-4fb0-a65d-8b58695e28c7",
   "metadata": {},
   "outputs": [],
   "source": [
    "df = pd.read_csv('spam.csv',encoding='latin1')"
   ]
  },
  {
   "cell_type": "markdown",
   "id": "b45f0499-f1dd-46e7-acd4-f7b6181d27f9",
   "metadata": {},
   "source": [
    "## 1.Preprocessing "
   ]
  },
  {
   "cell_type": "code",
   "execution_count": null,
   "id": "740b3ca3-9ecf-45a9-96b0-a9b036e8039c",
   "metadata": {},
   "outputs": [],
   "source": [
    "df.shape"
   ]
  },
  {
   "cell_type": "code",
   "execution_count": null,
   "id": "4bf706ef-b6b9-441c-a72c-9ca29ab45b20",
   "metadata": {},
   "outputs": [],
   "source": [
    "df.head()"
   ]
  },
  {
   "cell_type": "code",
   "execution_count": null,
   "id": "8fd8890b-74dd-41cb-b523-b72debaebd76",
   "metadata": {},
   "outputs": [],
   "source": [
    "df[df['v1']=='spam']['v2']"
   ]
  },
  {
   "cell_type": "code",
   "execution_count": null,
   "id": "3e9e1324-13a7-4ead-83e0-87b7985b999c",
   "metadata": {},
   "outputs": [],
   "source": [
    "df.sample(10)"
   ]
  },
  {
   "cell_type": "code",
   "execution_count": null,
   "id": "961dcb08-07ad-43c5-8a75-25cf9ba4d3d9",
   "metadata": {},
   "outputs": [],
   "source": [
    "df.info()"
   ]
  },
  {
   "cell_type": "code",
   "execution_count": null,
   "id": "940464ba-f920-415e-b7c7-109c18bf7864",
   "metadata": {},
   "outputs": [],
   "source": [
    "df.drop(columns=['Unnamed: 2','Unnamed: 3','Unnamed: 4'],inplace=True)"
   ]
  },
  {
   "cell_type": "code",
   "execution_count": null,
   "id": "dbf066ff-f2ad-48cf-a065-57fdf3115adc",
   "metadata": {},
   "outputs": [],
   "source": [
    "df.sample(5)"
   ]
  },
  {
   "cell_type": "code",
   "execution_count": null,
   "id": "a88428eb-4b94-49ca-a5a5-038585c0fcfd",
   "metadata": {},
   "outputs": [],
   "source": [
    "# rename\n",
    "df.rename(columns={'v1':'target', 'v2':'text'},inplace=True)\n"
   ]
  },
  {
   "cell_type": "code",
   "execution_count": null,
   "id": "20ef0c9f-8bd2-4abd-a2aa-4ea098036d42",
   "metadata": {},
   "outputs": [],
   "source": [
    "#lable incoding\n",
    "\n",
    "from sklearn.preprocessing import LabelEncoder\n",
    "\n",
    "encoder =LabelEncoder()"
   ]
  },
  {
   "cell_type": "code",
   "execution_count": null,
   "id": "eafff69a-724f-4293-867d-0174515311a1",
   "metadata": {},
   "outputs": [],
   "source": [
    "df['target']=encoder.fit_transform(df['target'])"
   ]
  },
  {
   "cell_type": "code",
   "execution_count": null,
   "id": "d35523a0-39a2-45bf-b5a5-91f663681a2a",
   "metadata": {},
   "outputs": [],
   "source": [
    "df.sample(5)"
   ]
  },
  {
   "cell_type": "code",
   "execution_count": null,
   "id": "1865f6a7-39f4-41fd-99d1-e49a7384e0d6",
   "metadata": {},
   "outputs": [],
   "source": [
    "# missing \n",
    "df.isnull().sum()"
   ]
  },
  {
   "cell_type": "code",
   "execution_count": null,
   "id": "9078d2b5-522e-409c-8fbe-b232d83feaa8",
   "metadata": {},
   "outputs": [],
   "source": [
    "# cheak for duplicated value\n",
    "df.duplicated().sum()"
   ]
  },
  {
   "cell_type": "code",
   "execution_count": null,
   "id": "448dad23-6d21-462f-8982-16e4269486a0",
   "metadata": {},
   "outputs": [],
   "source": [
    "# remove duplicats\n",
    "df=df.drop_duplicates(keep='first')"
   ]
  },
  {
   "cell_type": "code",
   "execution_count": null,
   "id": "7ed328a0-dcb1-4459-a8e4-8931b58aa2d7",
   "metadata": {},
   "outputs": [],
   "source": [
    "# cheak for duplicated value\n",
    "df.duplicated().sum()"
   ]
  },
  {
   "cell_type": "code",
   "execution_count": null,
   "id": "c6061051-8ae2-43ce-8249-cf1b26e26a95",
   "metadata": {},
   "outputs": [],
   "source": [
    "## EDA \n"
   ]
  },
  {
   "cell_type": "code",
   "execution_count": null,
   "id": "65e35e2f-50dd-4639-82e4-6aca78e29952",
   "metadata": {},
   "outputs": [],
   "source": [
    "count=df['target'].value_counts()"
   ]
  },
  {
   "cell_type": "code",
   "execution_count": null,
   "id": "75561548-5ab5-444f-b341-fc9b09f7109b",
   "metadata": {},
   "outputs": [],
   "source": [
    "import matplotlib.pyplot as plt\n",
    "plt.pie(count,labels=['mah','spam'],autopct='%1.1f%%')"
   ]
  },
  {
   "cell_type": "code",
   "execution_count": null,
   "id": "3cf55eba-9f8d-41a9-a009-e69787017bc2",
   "metadata": {},
   "outputs": [],
   "source": [
    "! pip install nltk"
   ]
  },
  {
   "cell_type": "code",
   "execution_count": null,
   "id": "153a2d1f-afe4-471e-b502-156ad8e3cd11",
   "metadata": {},
   "outputs": [],
   "source": [
    "import nltk"
   ]
  },
  {
   "cell_type": "code",
   "execution_count": null,
   "id": "e84e5c14-4462-4933-9436-35379ecf1c04",
   "metadata": {},
   "outputs": [],
   "source": [
    "nltk.download('punkt')"
   ]
  },
  {
   "cell_type": "code",
   "execution_count": null,
   "id": "8e0ea5ef-f871-4067-98db-0b6d1bcc16ae",
   "metadata": {},
   "outputs": [],
   "source": [
    "df['num_character'] = df['text'].apply(len)\n"
   ]
  },
  {
   "cell_type": "code",
   "execution_count": null,
   "id": "7b92e3bb-37ab-4102-acc1-31cb9d856448",
   "metadata": {},
   "outputs": [],
   "source": [
    "df.head()"
   ]
  },
  {
   "cell_type": "code",
   "execution_count": null,
   "id": "489f96a7-6acd-49c7-b507-e255f99e1564",
   "metadata": {},
   "outputs": [],
   "source": [
    "# number of words\n",
    "df['num_word']=df['text'].apply(lambda x:len(nltk.word_tokenize(x)))"
   ]
  },
  {
   "cell_type": "code",
   "execution_count": null,
   "id": "b17a6aed-f6a8-4aa5-9267-f7c21cd803b4",
   "metadata": {},
   "outputs": [],
   "source": [
    "df.head()"
   ]
  },
  {
   "cell_type": "code",
   "execution_count": null,
   "id": "12e9a785-cd1d-4966-a374-6133fbff78e9",
   "metadata": {},
   "outputs": [],
   "source": [
    "# number of sentences\n",
    "df['num_sentence']=df['text'].apply(lambda x:len(nltk.sent_tokenize(x)))"
   ]
  },
  {
   "cell_type": "code",
   "execution_count": null,
   "id": "8da94727-db61-430c-9f77-2b4666264d80",
   "metadata": {},
   "outputs": [],
   "source": [
    "df.head()"
   ]
  },
  {
   "cell_type": "code",
   "execution_count": null,
   "id": "2cab70c9-13e9-4b60-9ede-7fd91716f612",
   "metadata": {},
   "outputs": [],
   "source": [
    "df[['num_character', 'num_word', 'num_sentence']].describe()\n"
   ]
  },
  {
   "cell_type": "code",
   "execution_count": null,
   "id": "cafdbd22-e019-4304-b867-d4dabeaa40d5",
   "metadata": {},
   "outputs": [],
   "source": [
    "df[df['target']==0][['num_word','num_character','num_sentence']].describe()"
   ]
  },
  {
   "cell_type": "code",
   "execution_count": null,
   "id": "0eb14d5b-fb1b-4184-9c0d-46396f28a85f",
   "metadata": {},
   "outputs": [],
   "source": [
    "df[df['target']==1][['num_word','num_character','num_sentence']].describe()"
   ]
  },
  {
   "cell_type": "code",
   "execution_count": null,
   "id": "9169ba39-e20c-494f-b5f8-ad7eaf3626eb",
   "metadata": {},
   "outputs": [],
   "source": [
    "import seaborn as sns"
   ]
  },
  {
   "cell_type": "code",
   "execution_count": null,
   "id": "f3c2972f-47b0-42d6-bc43-f65193e7f28e",
   "metadata": {},
   "outputs": [],
   "source": [
    "plt.figure(figsize=(12,10))\n",
    "sns.histplot(df[df['target']==0]['num_character'])\n",
    "sns.histplot(df[df['target']==1]['num_character'],color='red')"
   ]
  },
  {
   "cell_type": "code",
   "execution_count": null,
   "id": "116b635d-a70a-4324-ab46-442b98c7e9a3",
   "metadata": {},
   "outputs": [],
   "source": [
    "plt.figure(figsize=(12,10))\n",
    "sns.histplot(df[df['target']==0]['num_word'])\n",
    "sns.histplot(df[df['target']==1]['num_word'],color='red')"
   ]
  },
  {
   "cell_type": "code",
   "execution_count": null,
   "id": "e77bcb22-807a-4f18-b603-fdb986d92cab",
   "metadata": {},
   "outputs": [],
   "source": [
    "plt.figure(figsize=(12,10))\n",
    "sns.histplot(df[df['target']==0]['num_sentence'])\n",
    "sns.histplot(df[df['target']==1]['num_sentence'],color='red')"
   ]
  },
  {
   "cell_type": "code",
   "execution_count": null,
   "id": "f35f420d-a4ae-48a2-bb66-167a932742f0",
   "metadata": {},
   "outputs": [],
   "source": [
    "sns.pairplot(df,hue='target')"
   ]
  },
  {
   "cell_type": "code",
   "execution_count": null,
   "id": "32ac73a8-be91-4209-8959-9cf61d0e5fb4",
   "metadata": {},
   "outputs": [],
   "source": [
    "numeric_df = df.select_dtypes(include='number')\n",
    "\n",
    "# Create the heatmap\n",
    "sns.heatmap(numeric_df.corr(), annot=True)"
   ]
  },
  {
   "cell_type": "code",
   "execution_count": null,
   "id": "cf77c093-e31b-469f-93a1-d7380b9abfdd",
   "metadata": {},
   "outputs": [],
   "source": [
    "##3. Data Preprocessing\n",
    "# Lower case\n",
    "#Tokenization\n",
    "#Removing special characters\n",
    "#Removing stop words and punctuation\n",
    "#Stemming"
   ]
  },
  {
   "cell_type": "code",
   "execution_count": null,
   "id": "fe44c151-0dac-4f25-91f0-bf94110badf0",
   "metadata": {},
   "outputs": [],
   "source": [
    "import nltk\n",
    "nltk.download('stopwords')\n"
   ]
  },
  {
   "cell_type": "code",
   "execution_count": null,
   "id": "e150f5c1-d0b2-44ca-9a8c-b51e54310185",
   "metadata": {},
   "outputs": [],
   "source": [
    "import string\n",
    "from nltk.corpus import stopwords\n",
    "import nltk\n",
    "\n",
    "# Download stopwords if not already downloaded\n",
    "nltk.download('stopwords')"
   ]
  },
  {
   "cell_type": "code",
   "execution_count": null,
   "id": "9404fdee-32a6-4e1b-99b3-9c2e3d43dff0",
   "metadata": {},
   "outputs": [],
   "source": [
    "from nltk.stem.porter import PorterStemmer\n",
    "ps = PorterStemmer()"
   ]
  },
  {
   "cell_type": "code",
   "execution_count": null,
   "id": "8fdc70a8-052e-44dd-a285-8a2cfb33e18f",
   "metadata": {},
   "outputs": [],
   "source": [
    "#from nltk.corpus import stopwords\n",
    "\n",
    "#stopwords.words('english')\n",
    "\n",
    "\n",
    "#import string\n",
    "#string.punctuation"
   ]
  },
  {
   "cell_type": "code",
   "execution_count": null,
   "id": "8a875393-1357-4670-ac94-fb5bad6bb4d7",
   "metadata": {},
   "outputs": [],
   "source": [
    "def tarnsform_text(text):\n",
    "    text = text.lower()\n",
    "    text = nltk.word_tokenize(text)\n",
    "    y=[]\n",
    "    for  i in text:\n",
    "        if i.isalnum():\n",
    "            y.append(i)\n",
    "    text = y[:]\n",
    "    y.clear()\n",
    "    for i in text:\n",
    "        if i not in stopwords.words('english') and i not in string.punctuation:\n",
    "            y.append(i)\n",
    "    text = y[:]\n",
    "    y.clear()\n",
    "\n",
    "    for i in text:\n",
    "        y.append(ps.stem(i))\n",
    "    return \" \".join(y)       "
   ]
  },
  {
   "cell_type": "code",
   "execution_count": null,
   "id": "a5c9a896-7342-45ac-96f4-9ab4bd5d39d3",
   "metadata": {},
   "outputs": [],
   "source": [
    "tarnsform_text('hii are aindfkbad  sjddb 34 $$nnsdkdjfns bnjsd loving')"
   ]
  },
  {
   "cell_type": "code",
   "execution_count": null,
   "id": "1c3a0b53-0771-41f6-adef-073b356e335e",
   "metadata": {},
   "outputs": [],
   "source": [
    "df['transformed_text']=df['text'].apply(tarnsform_text)"
   ]
  },
  {
   "cell_type": "code",
   "execution_count": null,
   "id": "3f1d7801-3a84-4230-8545-37d93927cb75",
   "metadata": {},
   "outputs": [],
   "source": [
    "df.head()"
   ]
  },
  {
   "cell_type": "code",
   "execution_count": null,
   "id": "7d9d139e-2010-4b94-a43c-7c70e47c00a0",
   "metadata": {},
   "outputs": [],
   "source": [
    "from wordcloud import WordCloud\n",
    "wc = WordCloud(width=500,height=500,min_font_size=10,background_color='white')"
   ]
  },
  {
   "cell_type": "code",
   "execution_count": null,
   "id": "ffd241d5-d75d-4199-a594-3170a107e683",
   "metadata": {},
   "outputs": [],
   "source": [
    "spam_wc=wc.generate(df[df['target']==1]['transformed_text'].str.cat(sep=\" \"))"
   ]
  },
  {
   "cell_type": "code",
   "execution_count": null,
   "id": "ca1ef3a0-d3c0-4872-bfae-efe893fd5b49",
   "metadata": {},
   "outputs": [],
   "source": [
    "plt.figure(figsize=(12,6))\n",
    "plt.imshow(spam_wc)"
   ]
  },
  {
   "cell_type": "code",
   "execution_count": null,
   "id": "94939fc8-1ee3-49cd-b808-913ffe779b2e",
   "metadata": {},
   "outputs": [],
   "source": [
    "ham_wc=wc.generate(df[df['target']==0]['transformed_text'].str.cat(sep=\" \"))"
   ]
  },
  {
   "cell_type": "code",
   "execution_count": null,
   "id": "f41e1647-697b-486f-952c-4f2b1913a8ac",
   "metadata": {},
   "outputs": [],
   "source": [
    "plt.figure(figsize=(12,6))\n",
    "plt.imshow(ham_wc)"
   ]
  },
  {
   "cell_type": "code",
   "execution_count": null,
   "id": "83d935f2-2dcb-4d63-a61b-1292e1d9a202",
   "metadata": {},
   "outputs": [],
   "source": [
    "df.head()"
   ]
  },
  {
   "cell_type": "code",
   "execution_count": null,
   "id": "0e7722c4-e22f-4437-b453-9d1873ab9b2b",
   "metadata": {},
   "outputs": [],
   "source": [
    "#df[df['target']==1]['transformed_text'].tolist()"
   ]
  },
  {
   "cell_type": "code",
   "execution_count": null,
   "id": "fb74a035-a0b3-4bfe-92f7-7167a200ce49",
   "metadata": {},
   "outputs": [],
   "source": [
    "spam_corpur = []\n",
    "for msg in df[df['target']==1]['transformed_text'].tolist():\n",
    "    for word in msg.split():\n",
    "        spam_corpur.append(word)\n",
    "\n"
   ]
  },
  {
   "cell_type": "code",
   "execution_count": null,
   "id": "6eed337a-6efb-4ca6-a2af-420d0f7210b8",
   "metadata": {},
   "outputs": [],
   "source": [
    "len(spam_corpur)"
   ]
  },
  {
   "cell_type": "code",
   "execution_count": null,
   "id": "f5dcba3d-782c-4978-b4da-e4e88130ed13",
   "metadata": {},
   "outputs": [],
   "source": [
    "from collections import Counter\n",
    "sns.barplot(x=pd.DataFrame(Counter(spam_corpur).most_common(30))[0],y=pd.DataFrame(Counter(spam_corpur).most_common(30))[1])\n",
    "plt.xticks(rotation='vertical')"
   ]
  },
  {
   "cell_type": "code",
   "execution_count": null,
   "id": "29574d3d-3c5e-4f75-b9a5-f4d17cc75a32",
   "metadata": {},
   "outputs": [],
   "source": [
    "ham_corpur = []\n",
    "for msg in df[df['target']==0]['transformed_text'].tolist():\n",
    "    for word in msg.split():\n",
    "        ham_corpur.append(word)"
   ]
  },
  {
   "cell_type": "code",
   "execution_count": null,
   "id": "ee37ce94-c626-4754-a434-de18300f77c6",
   "metadata": {},
   "outputs": [],
   "source": [
    "len(ham_corpur)"
   ]
  },
  {
   "cell_type": "code",
   "execution_count": null,
   "id": "a5abc9c4-c028-4c60-8eae-c51d2c9608d4",
   "metadata": {},
   "outputs": [],
   "source": [
    "from collections import Counter\n",
    "sns.barplot(x=pd.DataFrame(Counter(ham_corpur).most_common(30))[0],y=pd.DataFrame(Counter(ham_corpur).most_common(30))[1])\n",
    "plt.xticks(rotation='vertical')"
   ]
  },
  {
   "cell_type": "code",
   "execution_count": null,
   "id": "087ba4be-6f5f-430c-9a86-92f236dfef1a",
   "metadata": {},
   "outputs": [],
   "source": [
    "df.head()"
   ]
  },
  {
   "cell_type": "markdown",
   "id": "ef5a1481-05ab-4fe1-9946-4489f8aae4d0",
   "metadata": {},
   "source": [
    " ## 4.Model Building"
   ]
  },
  {
   "cell_type": "code",
   "execution_count": null,
   "id": "af348821-e40c-44fb-8e81-62da95561ace",
   "metadata": {},
   "outputs": [],
   "source": [
    "from sklearn.feature_extraction.text import CountVectorizer, TfidfVectorizer\n",
    "cv = CountVectorizer()\n",
    "tfidf=TfidfVectorizer(max_features=3000)"
   ]
  },
  {
   "cell_type": "code",
   "execution_count": null,
   "id": "20669ca9-7835-4ccd-a97c-8e152f004a8b",
   "metadata": {},
   "outputs": [],
   "source": [
    "x=tfidf.fit_transform(df['transformed_text']).toarray()"
   ]
  },
  {
   "cell_type": "code",
   "execution_count": null,
   "id": "af2c0681-3d00-45b1-ace3-a5c89b0de1b1",
   "metadata": {},
   "outputs": [],
   "source": [
    "df.shape"
   ]
  },
  {
   "cell_type": "code",
   "execution_count": null,
   "id": "10409bb6-4705-41c9-b2ea-cb3c7ab592ee",
   "metadata": {},
   "outputs": [],
   "source": [
    "y=df['target'].values"
   ]
  },
  {
   "cell_type": "code",
   "execution_count": null,
   "id": "1e353afc-57f4-4664-ab7c-0b7eeb66629b",
   "metadata": {},
   "outputs": [],
   "source": [
    "from sklearn.model_selection import train_test_split\n"
   ]
  },
  {
   "cell_type": "code",
   "execution_count": null,
   "id": "da1990de-1c08-49f9-8dde-4473cb188ee4",
   "metadata": {},
   "outputs": [],
   "source": [
    "x_train,x_test,y_train,y_test=train_test_split(x,y,test_size=0.2,random_state=2)"
   ]
  },
  {
   "cell_type": "code",
   "execution_count": null,
   "id": "c16d2c32-a367-4c6a-9426-3a7eda19485a",
   "metadata": {},
   "outputs": [],
   "source": [
    "from sklearn.naive_bayes import GaussianNB,MultinomialNB,BernoulliNB\n",
    "from sklearn.metrics import accuracy_score, confusion_matrix, precision_score\n",
    "\n",
    "gnb=GaussianNB()\n",
    "mnb=MultinomialNB()\n",
    "bnb=BernoulliNB()"
   ]
  },
  {
   "cell_type": "code",
   "execution_count": null,
   "id": "71fb50c5-dcd6-4ed4-a2a0-5b81f64f5ca4",
   "metadata": {},
   "outputs": [],
   "source": [
    "gnb.fit(x_train,y_train)\n",
    "y_pred1=gnb.predict(x_test)\n",
    "print(accuracy_score(y_test,y_pred1))\n",
    "print(confusion_matrix(y_test,y_pred1))\n",
    "print(precision_score(y_test,y_pred1))\n"
   ]
  },
  {
   "cell_type": "code",
   "execution_count": null,
   "id": "d7b8343d-e9ff-46a0-b75e-f065eac929fe",
   "metadata": {},
   "outputs": [],
   "source": [
    "mnb.fit(x_train,y_train)\n",
    "y_pred2=mnb.predict(x_test)\n",
    "print(accuracy_score(y_test,y_pred2))\n",
    "print(confusion_matrix(y_test,y_pred2))\n",
    "print(precision_score(y_test,y_pred2))"
   ]
  },
  {
   "cell_type": "code",
   "execution_count": null,
   "id": "d00ee119-0352-4c04-aaa0-ee8d044b0339",
   "metadata": {},
   "outputs": [],
   "source": [
    "bnb.fit(x_train,y_train)\n",
    "y_pred3=bnb.predict(x_test)\n",
    "print(accuracy_score(y_test,y_pred3))\n",
    "print(confusion_matrix(y_test,y_pred3))\n",
    "print(precision_score(y_test,y_pred3))"
   ]
  },
  {
   "cell_type": "code",
   "execution_count": null,
   "id": "640f0737-3eff-4f3d-99a8-f97583113154",
   "metadata": {},
   "outputs": [],
   "source": [
    "# tfidf == mnb"
   ]
  },
  {
   "cell_type": "code",
   "execution_count": null,
   "id": "06ebbfbe-9add-4d3f-90dc-0dc1d2c1f2ff",
   "metadata": {},
   "outputs": [],
   "source": [
    "pip install xgboost\n"
   ]
  },
  {
   "cell_type": "code",
   "execution_count": null,
   "id": "1d9769a1-a980-426d-825b-b27720edefa3",
   "metadata": {},
   "outputs": [],
   "source": [
    "from sklearn.linear_model import LogisticRegression\n",
    "from sklearn.svm import SVC\n",
    "from sklearn.naive_bayes import MultinomialNB\n",
    "from sklearn.tree import DecisionTreeClassifier\n",
    "from sklearn.neighbors import KNeighborsClassifier\n",
    "from sklearn.ensemble import RandomForestClassifier\n",
    "from sklearn.ensemble import AdaBoostClassifier\n",
    "from sklearn.ensemble import BaggingClassifier\n",
    "from sklearn.ensemble import ExtraTreesClassifier\n",
    "from sklearn.ensemble import GradientBoostingClassifier\n",
    "from xgboost import XGBClassifier\n"
   ]
  },
  {
   "cell_type": "code",
   "execution_count": null,
   "id": "d27f1836-f4be-4e20-8773-cd5d8adac04e",
   "metadata": {},
   "outputs": [],
   "source": [
    "svc = SVC(kernel='sigmoid', gamma=1.0)\n",
    "knc = KNeighborsClassifier()\n",
    "mnb = MultinomialNB()\n",
    "dtc = DecisionTreeClassifier(max_depth=5)\n",
    "lrc = LogisticRegression(solver='liblinear', penalty='l1')\n",
    "rfc = RandomForestClassifier(n_estimators=50, random_state=2)\n",
    "abc = AdaBoostClassifier(n_estimators=50, random_state=2)\n",
    "bc = BaggingClassifier(n_estimators=50, random_state=2)\n",
    "etc = ExtraTreesClassifier(n_estimators=50, random_state=2)\n",
    "gbdt = GradientBoostingClassifier(n_estimators=50,random_state=2)\n",
    "xgb = XGBClassifier(n_estimators=50,random_state=2)"
   ]
  },
  {
   "cell_type": "code",
   "execution_count": null,
   "id": "a56580f3-7e66-4056-bf50-61e17680c434",
   "metadata": {},
   "outputs": [],
   "source": [
    "clfs = {\n",
    "    'SVC' : svc,\n",
    "    'KN' : knc, \n",
    "    'NB': mnb, \n",
    "    'DT': dtc, \n",
    "    'LR': lrc, \n",
    "    'RF': rfc, \n",
    "    'AdaBoost': abc, \n",
    "    'BgC': bc, \n",
    "    'ETC': etc,\n",
    "    'GBDT':gbdt,\n",
    "    'xgb':xgb\n",
    "}"
   ]
  },
  {
   "cell_type": "code",
   "execution_count": null,
   "id": "1fc6917f-c209-4e0c-a418-f13868395fcc",
   "metadata": {},
   "outputs": [],
   "source": [
    "def train_classifier(clf,X_train,y_train,X_test,y_test):\n",
    "    clf.fit(X_train,y_train)\n",
    "    y_pred = clf.predict(X_test)\n",
    "    accuracy = accuracy_score(y_test,y_pred)\n",
    "    precision = precision_score(y_test,y_pred)\n",
    "    \n",
    "    return accuracy,precision"
   ]
  },
  {
   "cell_type": "code",
   "execution_count": null,
   "id": "e93427de-af4e-45b3-9626-3adf8700138b",
   "metadata": {},
   "outputs": [],
   "source": [
    "train_classifier(svc,x_train,y_train,x_test,y_test)"
   ]
  },
  {
   "cell_type": "code",
   "execution_count": null,
   "id": "3ac7a2f7-f20a-40d9-a803-0ac300a4b36f",
   "metadata": {},
   "outputs": [],
   "source": [
    "accuracy_scores = []\n",
    "precision_scores = []\n",
    "\n",
    "for name,clf in clfs.items():\n",
    "    \n",
    "    current_accuracy,current_precision = train_classifier(clf, x_train,y_train,x_test,y_test)\n",
    "    \n",
    "    print(\"For \",name)\n",
    "    print(\"Accuracy - \",current_accuracy)\n",
    "    print(\"Precision - \",current_precision)\n",
    "    \n",
    "    accuracy_scores.append(current_accuracy)\n",
    "    precision_scores.append(current_precision)"
   ]
  },
  {
   "cell_type": "code",
   "execution_count": null,
   "id": "0233969c-4a07-411a-80a2-5625264f5df1",
   "metadata": {},
   "outputs": [],
   "source": [
    "performance_df = pd.DataFrame({'Algorithm':clfs.keys(),'Accuracy':accuracy_scores,'Precision':precision_scores}).sort_values('Precision',ascending=False)"
   ]
  },
  {
   "cell_type": "code",
   "execution_count": null,
   "id": "e940d999-453a-41de-a275-f17cb8b92b1c",
   "metadata": {},
   "outputs": [],
   "source": [
    "performance_df1 = pd.melt(performance_df, id_vars = \"Algorithm\")"
   ]
  },
  {
   "cell_type": "code",
   "execution_count": null,
   "id": "ebf20ac2-620d-4e15-93d8-04a5ecc89e73",
   "metadata": {},
   "outputs": [],
   "source": [
    "performance_df1"
   ]
  },
  {
   "cell_type": "code",
   "execution_count": null,
   "id": "264944f5-3126-4b88-bbc9-0f71f55c9117",
   "metadata": {},
   "outputs": [],
   "source": [
    "sns.catplot(x = 'Algorithm', y='value', \n",
    "               hue = 'variable',data=performance_df1, kind='bar',height=5)\n",
    "plt.ylim(0.5,1.0)\n",
    "plt.xticks(rotation='vertical')\n",
    "plt.show()"
   ]
  },
  {
   "cell_type": "code",
   "execution_count": null,
   "id": "8e2fff4f-217b-4c35-8d1b-3fbdf585e2e5",
   "metadata": {},
   "outputs": [],
   "source": [
    "import pickle \n",
    "pickle.dump(tfidf,open('vectorizer.pkl','wb'))\n",
    "pickle.dump(mnb,open('model.pkl','wb'))"
   ]
  },
  {
   "cell_type": "code",
   "execution_count": null,
   "id": "777c74df-cf7a-46f3-9406-0833f03cab1a",
   "metadata": {},
   "outputs": [],
   "source": [
    "import pickle\n",
    "\n",
    "# Save the trained objects\n",
    "with open('vectorizer.pkl', 'wb') as f:\n",
    "    pickle.dump(tfidf, f)\n",
    "\n",
    "with open('model.pkl', 'wb') as f:\n",
    "    pickle.dump(mnb, f)\n"
   ]
  }
 ],
 "metadata": {
  "kernelspec": {
   "display_name": "Python 3 (ipykernel)",
   "language": "python",
   "name": "python3"
  },
  "language_info": {
   "codemirror_mode": {
    "name": "ipython",
    "version": 3
   },
   "file_extension": ".py",
   "mimetype": "text/x-python",
   "name": "python",
   "nbconvert_exporter": "python",
   "pygments_lexer": "ipython3",
   "version": "3.12.4"
  }
 },
 "nbformat": 4,
 "nbformat_minor": 5
}
